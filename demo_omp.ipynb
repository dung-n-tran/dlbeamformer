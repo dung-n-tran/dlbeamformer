{
 "cells": [
  {
   "cell_type": "code",
   "execution_count": 1,
   "metadata": {},
   "outputs": [
    {
     "name": "stdout",
     "output_type": "stream",
     "text": [
      "Populating the interactive namespace from numpy and matplotlib\n"
     ]
    }
   ],
   "source": [
    "%pylab inline\n",
    "import omp\n",
    "import numpy as np"
   ]
  },
  {
   "cell_type": "code",
   "execution_count": 2,
   "metadata": {},
   "outputs": [
    {
     "name": "stdout",
     "output_type": "stream",
     "text": [
      "{'nnoneg': False, 'ncoef': None, 'maxit': 200, 'tol': 0.001, 'ztol': 1e-12}\n",
      "\n",
      "Iteration, relative error, number of non-zeros\n",
      "0, 0.4443901876604488, 1\n",
      "1, 1.0967778157478076e-16, 2\n",
      "\n",
      "Converged.\n",
      "Solution array([0. +0.j, 1. +2.j, 0. +0.j, 0.5+1.j], dtype=complex64)\n"
     ]
    }
   ],
   "source": [
    "# generate a grid\n",
    "npts = 64\n",
    "domain = np.linspace(0, 1, npts)\n",
    "\n",
    "# generate a dictionary and manufactured solution\n",
    "X = np.array([np.cos(2 * np.pi * m * domain) for m in range(4)]).T + 1j*np.array([np.sin(2*np.pi*m*domain) for m in range(4)]).T\n",
    "coef = [0., 1.+2*1j, 0., .5+1j]\n",
    "y = np.dot(X, coef)\n",
    "result = omp.omp(X, y, nonneg=False)\n",
    "print('Solution %r' % result.coef)"
   ]
  },
  {
   "cell_type": "code",
   "execution_count": 3,
   "metadata": {},
   "outputs": [],
   "source": [
    "x = [[] for i in range(3)]\n",
    "x[0].append(1)\n",
    "x[2].append(4)"
   ]
  },
  {
   "cell_type": "code",
   "execution_count": 24,
   "metadata": {},
   "outputs": [
    {
     "name": "stdout",
     "output_type": "stream",
     "text": [
      "571.547864 signals processed per second\n",
      "41.77937\n"
     ]
    }
   ],
   "source": [
    "import spams\n",
    "import numpy as np\n",
    "np.random.seed(0)\n",
    "X = np.asfortranarray(np.random.normal(size = (64,100)) + 1j*np.random.normal(size = (64,1000)), dtype=np.complex64)\n",
    "D = np.asfortranarray(np.random.normal(size = (64,200)) + 1j*np.random.normal(size = (64,200)), dtype=np.complex64)\n",
    "D = np.asfortranarray(D / np.tile(np.sqrt((D*D).sum(axis=0)),(D.shape[0],1)),dtype=np.complex64)\n",
    "ind_groups = np.array(range(0,1000,10),dtype=np.int32)\n",
    "tic = time.time()\n",
    "alpha = spams.somp(X,D,ind_groups,L = 30, eps = 1e-4,numThreads=-1)\n",
    "tac = time.time()\n",
    "t = tac - tic\n",
    "print(\"%f signals processed per second\" %(X.shape[1] / t))\n",
    "print(np.linalg.norm(X - D*alpha))"
   ]
  },
  {
   "cell_type": "code",
   "execution_count": 20,
   "metadata": {},
   "outputs": [],
   "source": [
    "spams.somp?"
   ]
  }
 ],
 "metadata": {
  "kernelspec": {
   "display_name": "tensorflow-gpu-p36",
   "language": "python",
   "name": "tensorflow-gpu-p36"
  },
  "language_info": {
   "codemirror_mode": {
    "name": "ipython",
    "version": 3
   },
   "file_extension": ".py",
   "mimetype": "text/x-python",
   "name": "python",
   "nbconvert_exporter": "python",
   "pygments_lexer": "ipython3",
   "version": "3.6.8"
  }
 },
 "nbformat": 4,
 "nbformat_minor": 2
}
